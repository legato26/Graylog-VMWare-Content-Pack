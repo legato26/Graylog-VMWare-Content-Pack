{
  "nbformat": 4,
  "nbformat_minor": 0,
  "metadata": {
    "colab": {
      "name": "Welcome To Colaboratory",
      "provenance": [],
      "collapsed_sections": [],
      "toc_visible": true,
      "include_colab_link": true
    },
    "kernelspec": {
      "display_name": "Python 3",
      "name": "python3"
    }
  },
  "cells": [
    {
      "cell_type": "markdown",
      "metadata": {
        "id": "view-in-github",
        "colab_type": "text"
      },
      "source": [
        "<a href=\"https://colab.research.google.com/github/legato26/Graylog-VMWare-Content-Pack/blob/master/Welcome_To_Colaboratory.ipynb\" target=\"_parent\"><img src=\"https://colab.research.google.com/assets/colab-badge.svg\" alt=\"Open In Colab\"/></a>"
      ]
    },
    {
      "cell_type": "markdown",
      "metadata": {
        "id": "LLezkmlv1Ogo"
      },
      "source": [
        ""
      ]
    },
    {
      "cell_type": "code",
      "metadata": {
        "colab": {
          "base_uri": "https://localhost:8080/"
        },
        "id": "JdYKdVgmIfFB",
        "outputId": "2654926c-7db0-4aa5-b89d-1dde573642da"
      },
      "source": [
        "import requests\n",
        "from bs4 import BeautifulSoup\n",
        "import urllib3\n",
        "urllib3.disable_warnings()\n",
        "\n",
        "resposta = requests.get('https://www.ncrangola.com/loja/particulares/pt/378-servidores')\n",
        "a = resposta.content\n",
        "b = BeautifulSoup(a, 'html.parser')\n",
        "#print(b)\n",
        "c = b.find_all(\"div\", attrs={\"class\": \"produto_info_in\"})\n",
        "print(c)\n",
        "#print(b.prettify())\n"
      ],
      "execution_count": 22,
      "outputs": [
        {
          "output_type": "stream",
          "text": [
            "[<div class=\"produto_info_in\"><h6>HPE</h6> <a href=\"https://www.ncrangola.com/loja/particulares/pt/acessorios/18143-hpe-microserver-gen10-ilo-enablement-kit.html\"><h5>MICROSERVER Gen10+ iLO ENABLEMENT KIT</h5></a><div class=\"produto_precos\"><div class=\"produto_precos_in\"> <span itemprop=\"price\"> 37 324,00 AKZ </span><meta content=\"AOA\" itemprop=\"priceCurrency\"/> <span class=\"old-price product-price\"> <strong> </strong> </span></div></div></div>, <div class=\"produto_info_in\"><h6>INTELLINET</h6> <a href=\"https://www.ncrangola.com/loja/particulares/pt/acessorios/17718-ar-3-fans-railmount-black-intell.html\"><h5>COOLER AR 3 FANS RAILMOUNT 1U PRETO</h5></a><div class=\"produto_precos\"><div class=\"produto_precos_in\"> <span itemprop=\"price\"> 64 058,00 AKZ </span><meta content=\"AOA\" itemprop=\"priceCurrency\"/> <span class=\"old-price product-price\"> <strong> </strong> </span></div></div></div>, <div class=\"produto_info_in\"><h6>HP</h6> <a href=\"https://www.ncrangola.com/loja/particulares/pt/acessorios/305-cd-dvd-rw-interno-sata-pserver-hp.html\"><h5>LEITOR DE CD/DVD+/-RW INTERNO SATA PARA SERVIDOR</h5></a><div class=\"produto_precos\"><div class=\"produto_precos_in\"> <span itemprop=\"price\"> 123 397,00 AKZ </span><meta content=\"AOA\" itemprop=\"priceCurrency\"/> <span class=\"old-price product-price\"> <strong> </strong> </span></div></div></div>, <div class=\"produto_info_in\"><h6>HP</h6> <a href=\"https://www.ncrangola.com/loja/particulares/pt/acessorios/16625-hpe-500w-fs-plat-ht-plg-lh-pwr-sply-kit.html\"><h5>FONTE DE ALIMENTAÇÃO PARA SERVIDOR KIT PLUG PLATINUM HPE 500W</h5></a><div class=\"produto_precos\"><div class=\"produto_precos_in\"> <span itemprop=\"price\"> 129 307,00 AKZ </span><meta content=\"AOA\" itemprop=\"priceCurrency\"/> <span class=\"old-price product-price\"> <strong> </strong> </span></div></div></div>, <div class=\"produto_info_in\"><h6>HP</h6> <a href=\"https://www.ncrangola.com/loja/particulares/pt/acessorios/16699-hpe-ml350-gen-10-redundant-fan-cage-kit.html\"><h5>KIT DE GAIOLA REDUNDANTE HPE ML350 GEN 10</h5></a><div class=\"produto_precos\"><div class=\"produto_precos_in\"> <span itemprop=\"price\"> 183 141,00 AKZ </span><meta content=\"AOA\" itemprop=\"priceCurrency\"/> <span class=\"old-price product-price\"> <strong> </strong> </span></div></div></div>, <div class=\"produto_info_in\"><h6>HP</h6> <a href=\"https://www.ncrangola.com/loja/particulares/pt/servidores-torre/16819-server-hpe-ml350-g10-4210-32gb-2x300gb-sas-10k-sff-p408i-a-800w.html\"><h5>SERVIDOR ML350 G10 4210 32GB 2x300GB SAS 10K SFF P408i-a 800W</h5></a><div class=\"produto_precos\"><div class=\"produto_precos_in\"> <span itemprop=\"price\"> 3 059 205,00 AKZ </span><meta content=\"AOA\" itemprop=\"priceCurrency\"/> <span class=\"old-price product-price\"> <strong> </strong> </span></div></div></div>]\n"
          ],
          "name": "stdout"
        }
      ]
    }
  ]
}